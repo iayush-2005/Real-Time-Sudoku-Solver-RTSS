{
 "cells": [
  {
   "cell_type": "code",
   "metadata": {
    "ExecuteTime": {
     "end_time": "2024-11-24T13:55:03.301790Z",
     "start_time": "2024-11-24T13:55:03.295517Z"
    }
   },
   "source": [
    "%matplotlib inline"
   ],
   "outputs": [],
   "execution_count": 4
  },
  {
   "cell_type": "code",
   "metadata": {
    "ExecuteTime": {
     "end_time": "2024-11-24T13:55:03.434162Z",
     "start_time": "2024-11-24T13:55:03.352833Z"
    }
   },
   "source": [
    "import cv2\n",
    "import numpy as np\n",
    "import keras\n",
    "from tensorflow.keras.models import Sequential\n",
    "from tensorflow.keras.layers import Dense, Dropout, Flatten\n",
    "from tensorflow.keras.layers import Conv2D, MaxPooling2D\n",
    "from tensorflow.keras import backend as K\n",
    "\n",
    "import import_ipynb\n",
    "%run RealTimeSudokuSolver.ipynb\n",
    "%run sudokuSolver.ipynb\n",
    "# --->import RealTimeSudokuSolve\n",
    "from scipy import ndimage\n",
    "from scipy.ndimage import center_of_mass\n",
    "import math\n",
    "# --->import sudokuSolver\n",
    "import copy"
   ],
   "outputs": [],
   "execution_count": 5
  },
  {
   "cell_type": "code",
   "metadata": {
    "scrolled": true,
    "ExecuteTime": {
     "end_time": "2024-11-24T13:55:11.514687Z",
     "start_time": "2024-11-24T13:55:03.448984Z"
    }
   },
   "source": [
    "# This is the main file. Just run all cells in this file\n",
    "# you need not run other files. This file itself will do all the work for you.\n",
    "\n",
    "def showImage(img, name, width, height):\n",
    "    new_image = np.copy(img)\n",
    "    new_image = cv2.resize(new_image, (width, height))\n",
    "    cv2.imshow(name, new_image)\n",
    "\n",
    "# Load and set up Camera\n",
    "cap = cv2.VideoCapture(0)       #For windows use cap = cv2.VideoCapture(0, cv2.CAP_DSHOW)\n",
    "cap.set(3, 1280)    # HD Camera\n",
    "cap.set(4, 720)\n",
    "\n",
    "# Loading model (Load weights and configuration seperately to speed up model and predictions)\n",
    "input_shape = (28, 28, 1)\n",
    "num_classes = 9\n",
    "model = Sequential()\n",
    "model.add(Conv2D(32, kernel_size=(3, 3),\n",
    "                 activation='relu',\n",
    "                 input_shape=input_shape))\n",
    "model.add(Conv2D(64, (3, 3), activation='relu'))\n",
    "model.add(MaxPooling2D(pool_size=(2, 2)))\n",
    "model.add(Dropout(0.25))\n",
    "model.add(Flatten())\n",
    "model.add(Dense(128, activation='relu'))\n",
    "model.add(Dropout(0.5))\n",
    "model.add(Dense(num_classes, activation='softmax'))\n",
    "\n",
    "# Load weights from pre-trained model. This model is trained in digitRecognition.py\n",
    "model.load_weights(\"digitRecognition.h5\")\n",
    "\n",
    "old_sudoku = None # Used to compare new sudoku or old sudoku\n",
    "while(True):\n",
    "    ret, frame = cap.read() # Read the frame\n",
    "    if ret == True:\n",
    "\n",
    "        # RealTimeSudokuSolver.recognize_sudoku_and_solve\n",
    "        sudoku_frame = recognize_sudoku_and_solve(frame, model, old_sudoku)\n",
    "        showImage(sudoku_frame, \"Real Time Sudoku Solver\", 1066, 600)\n",
    "        if cv2.waitKey(1) == ord('q'):   # Hit q if you want to stop the camera\n",
    "            break\n",
    "    else:\n",
    "        break\n",
    "\n",
    "cap.release()\n",
    "cv2.destroyAllWindows()"
   ],
   "outputs": [],
   "execution_count": 6
  },
  {
   "cell_type": "code",
   "metadata": {
    "ExecuteTime": {
     "end_time": "2024-11-24T13:55:11.574270Z",
     "start_time": "2024-11-24T13:55:11.565769Z"
    }
   },
   "source": [],
   "outputs": [],
   "execution_count": null
  }
 ],
 "metadata": {
  "kernelspec": {
   "display_name": "Python 3 (ipykernel)",
   "language": "python",
   "name": "python3"
  },
  "language_info": {
   "codemirror_mode": {
    "name": "ipython",
    "version": 3
   },
   "file_extension": ".py",
   "mimetype": "text/x-python",
   "name": "python",
   "nbconvert_exporter": "python",
   "pygments_lexer": "ipython3",
   "version": "3.9.20"
  }
 },
 "nbformat": 4,
 "nbformat_minor": 4
}
